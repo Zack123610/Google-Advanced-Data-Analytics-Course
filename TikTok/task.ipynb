{
 "cells": [
  {
   "cell_type": "markdown",
   "metadata": {},
   "source": [
    "# TikTok\n",
    "## Background on the TikTok scenario\n",
    "\n",
    "At TikTok, our mission is to inspire creativity and bring joy. Our employees lead with curiosity and move at the speed of culture. Combined with our company's flat structure, you'll be given dynamic opportunities to make a real impact on a rapidly expanding company and grow your career.\n",
    "\n",
    "TikTok users have the ability to submit reports that identify videos and comments that contain user claims. These reports identify content that needs to be reviewed by moderators. The process generates a large number of user reports that are challenging to consider in a timely manner. \n",
    "\n",
    "TikTok is working on the development of a predictive model that can determine whether a video contains a claim or offers an opinion. With a successful prediction model, TikTok can reduce the backlog of user reports and prioritize them more efficiently."
   ]
  },
  {
   "cell_type": "markdown",
   "metadata": {},
   "source": [
    "## Course 2 \n",
    "### Project background\n",
    "TikTok’s data team is in the earliest stages of the claims classification project. The following tasks are needed before the team can begin the data analysis process:\n",
    "\n",
    "- Build a dataframe for the TikTok dataset\n",
    "\n",
    "- Examine data type of each column\n",
    "\n",
    "- Gather descriptive statistics\n",
    "\n",
    "### Your Assignment\n",
    "You will build a dataframe for the claims classification data. After the dataframe is complete, you will organize the claims data for the process of exploratory data analysis, and update the team on your progress and insights.\n",
    "\n",
    "### Specific project deliverables\n",
    "With this end-of-course project, you will gain valuable practice and apply your new skills as you complete the following:\n",
    "\n",
    "- Course 2 PACE Strategy Document to plan your project while considering your audience members, teammates, key milestones, and overall project goal. \n",
    "\n",
    "- Answer the questions in the Jupyter notebook project file\n",
    "\n",
    "- Complete coding prep work on project’s Jupyter notebook\n",
    "\n",
    "- Summarize the column Dtypes\n",
    "\n",
    "- Communicate important findings in the form of an executive summary"
   ]
  }
 ],
 "metadata": {
  "language_info": {
   "name": "python"
  }
 },
 "nbformat": 4,
 "nbformat_minor": 2
}
