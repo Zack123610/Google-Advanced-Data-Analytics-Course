{
 "cells": [
  {
   "cell_type": "markdown",
   "metadata": {},
   "source": [
    "# TikTok\n",
    "## Background on the TikTok scenario\n",
    "\n",
    "At TikTok, our mission is to inspire creativity and bring joy. Our employees lead with curiosity and move at the speed of culture. Combined with our company's flat structure, you'll be given dynamic opportunities to make a real impact on a rapidly expanding company and grow your career.\n",
    "\n",
    "TikTok users have the ability to submit reports that identify videos and comments that contain user claims. These reports identify content that needs to be reviewed by moderators. The process generates a large number of user reports that are challenging to consider in a timely manner. \n",
    "\n",
    "TikTok is working on the development of a predictive model that can determine whether a video contains a claim or offers an opinion. With a successful prediction model, TikTok can reduce the backlog of user reports and prioritize them more efficiently."
   ]
  },
  {
   "cell_type": "markdown",
   "metadata": {},
   "source": [
    "## Course 2 \n",
    "### Project background\n",
    "TikTok’s data team is in the earliest stages of the claims classification project. The following tasks are needed before the team can begin the data analysis process:\n",
    "\n",
    "- Build a dataframe for the TikTok dataset\n",
    "\n",
    "- Examine data type of each column\n",
    "\n",
    "- Gather descriptive statistics\n",
    "\n",
    "### Your Assignment\n",
    "You will build a dataframe for the claims classification data. After the dataframe is complete, you will organize the claims data for the process of exploratory data analysis, and update the team on your progress and insights.\n",
    "\n",
    "### Specific project deliverables\n",
    "With this end-of-course project, you will gain valuable practice and apply your new skills as you complete the following:\n",
    "\n",
    "- Course 2 PACE Strategy Document to plan your project while considering your audience members, teammates, key milestones, and overall project goal. \n",
    "\n",
    "- Answer the questions in the Jupyter notebook project file\n",
    "\n",
    "- Complete coding prep work on project’s Jupyter notebook\n",
    "\n",
    "- Summarize the column Dtypes\n",
    "\n",
    "- Communicate important findings in the form of an executive summary"
   ]
  },
  {
   "cell_type": "markdown",
   "metadata": {},
   "source": [
    "## Course 3 \n",
    "### Project background\n",
    "TikTok’s data team is working on the claims classification project. The following tasks are needed before the team can begin the data analysis process:\n",
    "\n",
    "- EDA and cleaning\n",
    "\n",
    "- Select and build visualization(s) type\n",
    "\n",
    "    - Create plots to visualize variables and relationships between variables\n",
    "\n",
    "- Share your results with the TikTok team\n",
    "\n",
    "### Your Assignment\n",
    "You will conduct exploratory data analysis on data for the claims classification project. You’ll also use Tableau to create visuals for an executive summary to help non-technical stakeholders engage and interact with the data.\n",
    "\n",
    "### Specific project deliverables\n",
    "With this end-of-course project, you will gain valuable practice and apply your new skills as you complete the following:\n",
    "\n",
    "- Course 3 PACE Strategy Document to consider questions, details, and action items for each stage of the project scenario\n",
    "\n",
    "- Answer the questions in the Jupyter notebook project file\n",
    "\n",
    "- Clean your data, perform exploratory data analysis (EDA)\n",
    "\n",
    "- Create data visualizations\n",
    "\n",
    "- Create an executive summary to share your results "
   ]
  },
  {
   "cell_type": "markdown",
   "metadata": {},
   "source": [
    "## Course 6 \n",
    "### Project background\n",
    "TikTok’s data team is near the end of the claims classification project. The following tasks are needed to complete the project:\n",
    "\n",
    "- Model building\n",
    "\n",
    "- Model evaluation\n",
    "\n",
    "- Summarize findings for cross-departmental stakeholders within TikTok\n",
    "\n",
    "### Your Assignment\n",
    "You will create the final machine learning model for the claims classification data. You will be responsible for leading these final tasks, which include feature engineering, model development, and evaluation. \n",
    "\n",
    "### Specific project deliverables\n",
    "With this end-of-course project, you will gain valuable practice and apply your new skills as you complete the following:\n",
    "\n",
    "- Course 6 PACE Strategy Document to consider questions, details, and action items for each stage of the project scenario\n",
    "\n",
    "- Answer the questions in the Jupyter notebook project file\n",
    "\n",
    "- Build a machine learning model\n",
    "\n",
    "- Evaluate the model\n",
    "\n",
    "- Interpret the results\n",
    "\n",
    "- Create an executive summary to share your results with cross-departmental stakeholders within TikTok "
   ]
  }
 ],
 "metadata": {
  "language_info": {
   "name": "python"
  }
 },
 "nbformat": 4,
 "nbformat_minor": 2
}
