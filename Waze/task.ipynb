{
 "cells": [
  {
   "cell_type": "markdown",
   "metadata": {},
   "source": [
    "# Waze\n",
    "## Background on the Waze scenario\n",
    "Waze’s free navigation app makes it easier for drivers around the world to get to where they want to go. Waze’s community of map editors, beta testers, translators, partners, and users helps make each drive better and safer. Waze partners with cities, transportation authorities, broadcasters, businesses, and first responders to help as many people as possible travel more efficiently and safely. \n",
    "\n",
    "You’ll collaborate with your Waze teammates to analyze and interpret data, generate valuable insights, and help leadership make informed business decisions. Your team is about to start a new project to help prevent user churn on the Waze app. Churn quantifies the number of users who have uninstalled the Waze app or stopped using the app. This project focuses on monthly user churn. \n",
    "\n",
    "This project is part of a larger effort at Waze to increase growth. Typically, high retention rates indicate satisfied users who repeatedly use the Waze app over time. Developing a churn prediction model will help prevent churn, improve user retention, and grow Waze’s business. An accurate model can also help identify specific factors that contribute to churn and answer questions such as: \n",
    "\n",
    "Who are the users most likely to churn?\n",
    "\n",
    "Why do users churn? \n",
    "\n",
    "When do users churn? \n",
    "\n",
    "For example, if Waze can identify a segment of users who are at high risk of churning, Waze can proactively engage these users with special offers to try and retain them. Otherwise, Waze may lose these users without knowing why. \n",
    "\n",
    "Your insights will help Waze leadership optimize the company’s retention strategy, enhance user experience, and make data-driven decisions about product development."
   ]
  },
  {
   "cell_type": "markdown",
   "metadata": {},
   "source": [
    "# Course 2\n",
    "## Project background\n",
    "Waze’s data team is in the earliest stages of the churn project. The following tasks are needed before the team can begin the data analysis process:\n",
    "\n",
    "- Build a dataframe for the churn dataset\n",
    "\n",
    "- Examine data type of each column\n",
    "\n",
    "- Gather descriptive statistics\n",
    "\n",
    "- Your assignment\n",
    "\n",
    "## Your assignment\n",
    "You will build a dataframe for the churn data. After the dataframe is complete, you will organize the data for the process of exploratory data analysis, and update the team on your progress and insights.\n",
    "\n",
    "## Project Deliverables\n",
    "With this end-of-course project, you will gain valuable practice and apply your new skills as you complete the following:\n",
    "\n",
    "- Complete the questions in the Course 2 PACE strategy document\n",
    "\n",
    "- Answer the questions in the Jupyter notebook project file\n",
    "\n",
    "- Complete coding prep work on project’s Jupyter notebook\n",
    "\n",
    "- Summarize the column Dtypes\n",
    "\n",
    "- Communicate important findings in the form of an executive summary  "
   ]
  }
 ],
 "metadata": {
  "language_info": {
   "name": "python"
  }
 },
 "nbformat": 4,
 "nbformat_minor": 2
}
